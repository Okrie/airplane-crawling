{
 "cells": [
  {
   "cell_type": "markdown",
   "metadata": {},
   "source": [
    "##### -*- coding: utf8 -*-\n",
    "### Information\n",
    "- Date : 2024-03-18 11:00\n",
    "- Author : Okrie\n",
    "- Description :   Airplane Price Information Test\n",
    "- Version : 0.1"
   ]
  },
  {
   "cell_type": "code",
   "execution_count": 15,
   "metadata": {},
   "outputs": [],
   "source": [
    "# from bs4 import BeautifulSoup\n",
    "# from selenium import webdriver\n",
    "import pandas as pd\n",
    "import requests as req"
   ]
  },
  {
   "cell_type": "markdown",
   "metadata": {},
   "source": [
    "Naver - https://flight.naver.com/flights/"
   ]
  },
  {
   "cell_type": "markdown",
   "metadata": {},
   "source": [
    "#### Naver Info     \n",
    "- seoul all , bk all\n",
    "- round trip\n",
    "- depart date = 2024.04.02\n",
    "- arrival date = 2024.04.05\n",
    "- adult = 2\n",
    "- children = 2 ( 4, 10 )      \n",
    "    \n",
    "```code\n",
    "https://flight.naver.com/flights/    \n",
    "international/                  international    \n",
    "ICN-BKK-20240402/               departure-arrival-depature_date\n",
    "BKK-ICN-20240405                departure-arrival-arrival_date\n",
    "?adults=2                       adult_count      \n",
    "&child=2                        child_count    \n",
    "&cabinclass=economy             carbin_class          \n",
    "&children=1                     children_count         \n",
    "&infant=1                       infant_count    OPTIONAL     \n",
    "&isDirect=true                  직항=true OPTIONAL\n",
    "fareType=Y                      Y 일반, P 프리미엄 일반, C 비지니스, F 일등석\n",
    "```   \n",
    "https://flight.naver.com/flights/international/ICN-BKK-20240402/BKK-ICN-20240405?adult=2&child=2&infant=1&isDirect=true&fareType=Y"
   ]
  },
  {
   "cell_type": "code",
   "execution_count": 2,
   "metadata": {},
   "outputs": [],
   "source": [
    "departure = \"ICN\"\n",
    "arrival = \"BKK\"\n",
    "\n",
    "departure_date = \"2024-04-02\"\n",
    "arrival_date = \"2024-04-05\"\n",
    "\n",
    "adults_count = 1\n",
    "children_count = 0\n",
    "infant_count = 0\n",
    "\n",
    "cabinclass = \"economy\"\n",
    "direct = True\n"
   ]
  },
  {
   "cell_type": "code",
   "execution_count": 3,
   "metadata": {},
   "outputs": [],
   "source": [
    "def convertDateTouseUrl(date: str):\n",
    "    return date.replace(\"-\", \"\")"
   ]
  },
  {
   "cell_type": "code",
   "execution_count": 4,
   "metadata": {},
   "outputs": [],
   "source": [
    "def hasChildrenCheck(children):\n",
    "    if children > 0:\n",
    "        return f'&child={children}'\n",
    "    return ''\n",
    "\n",
    "def hasInfantCheck(infant):\n",
    "    if infant > 0:\n",
    "        return f'&infant={infant}'\n",
    "    return ''"
   ]
  },
  {
   "cell_type": "code",
   "execution_count": 5,
   "metadata": {},
   "outputs": [],
   "source": [
    "def isDirect(direct):\n",
    "    return f'&isDirect=true' if direct else ''"
   ]
  },
  {
   "cell_type": "code",
   "execution_count": 6,
   "metadata": {},
   "outputs": [],
   "source": [
    "def isFareType(carbinClass):\n",
    "    if carbinClass == \"economy\": return \"Y\"\n",
    "    if carbinClass == \"premium economy\": return \"P\"\n",
    "    if carbinClass == \"business\": return \"C\"\n",
    "    if carbinClass == \"first\": return \"F\""
   ]
  },
  {
   "cell_type": "code",
   "execution_count": 132,
   "metadata": {},
   "outputs": [],
   "source": [
    "url = f'https://flight.naver.com/flights/international/'\n",
    "url += f\"{departure.upper()}-{arrival.upper()}-{convertDateTouseUrl(departure_date)}/\"\n",
    "url += f\"{arrival.upper()}-{departure.upper()}-{convertDateTouseUrl(arrival_date)}\"\n",
    "url += f'?adults={adults_count}'\n",
    "url += f\"{hasChildrenCheck(children_count)}\"\n",
    "url += f\"{hasInfantCheck(infant_count)}\"\n",
    "url += f'{isDirect(direct)}'\n",
    "url += f'&fareType={isFareType(cabinclass)}'"
   ]
  },
  {
   "cell_type": "code",
   "execution_count": 272,
   "metadata": {},
   "outputs": [],
   "source": [
    "# 2024-03-21\n",
    "# API 수집으로 대체\n",
    "\n",
    "# print(url)"
   ]
  },
  {
   "cell_type": "code",
   "execution_count": 271,
   "metadata": {},
   "outputs": [],
   "source": [
    "# 2024-03-21\n",
    "# API 수집으로 대체\n",
    "\n",
    "# driver = webdriver.Chrome()\n",
    "# driver.get(url)\n",
    "# driver.implicitly_wait(30)"
   ]
  },
  {
   "cell_type": "code",
   "execution_count": 270,
   "metadata": {},
   "outputs": [],
   "source": [
    "# 2024-03-21\n",
    "# API 수집으로 대체\n",
    "\n",
    "# driver.delete_all_cookies()\n",
    "# html = driver.page_source\n",
    "# soup = BeautifulSoup(html)"
   ]
  },
  {
   "cell_type": "markdown",
   "metadata": {},
   "source": [
    "concurrent_ConcurrentItemContainer__2lQVG"
   ]
  },
  {
   "cell_type": "code",
   "execution_count": 269,
   "metadata": {},
   "outputs": [],
   "source": [
    "# 2024-03-21\n",
    "# API 수집으로 대체\n",
    "\n",
    "# naver = soup.select('div.concurrent_inner__iqfJr')"
   ]
  },
  {
   "cell_type": "code",
   "execution_count": 12,
   "metadata": {},
   "outputs": [],
   "source": [
    "columns = [\n",
    "    'site',\n",
    "    'dp_departure_airline',\n",
    "    'dp_departure_img',\n",
    "    'dp_departure_time',\n",
    "    'dp_arrival_time',\n",
    "    'dp_duration',\n",
    "    'dp_departure_airport',\n",
    "    'dp_arrival_airport',\n",
    "    'dp_transit',\n",
    "    'entry_departure_airline',\n",
    "    'entry_departure_img',\n",
    "    'entry_departure_time',\n",
    "    'entry_arrival_time',\n",
    "    'entry_duration',\n",
    "    'entry_departure_airport',\n",
    "    'entry_arrival_airport',\n",
    "    'entry_transit',\n",
    "    'ticket_info',\n",
    "    'ticket_price',\n",
    "    'link',\n",
    "]\n",
    "\n",
    "df = pd.DataFrame(columns=columns)"
   ]
  },
  {
   "cell_type": "code",
   "execution_count": 265,
   "metadata": {},
   "outputs": [],
   "source": [
    "# naver"
   ]
  },
  {
   "cell_type": "code",
   "execution_count": 267,
   "metadata": {},
   "outputs": [],
   "source": [
    "# 2024-03-21\n",
    "# API 수집으로 대체\n",
    "\n",
    "# for index, value in enumerate(naver):\n",
    "#     print(index)\n",
    "#     # 한 종류의 항공사일 경우\n",
    "#     if len(value.select('img.airline_logo__3himS'))/2 != 1.0:\n",
    "#         print(value.select_one('img.airline_logo__3himS').attrs['alt'])\n",
    "#         print(value.select_one('img.airline_logo__3himS').attrs['src'])\n",
    "        \n",
    "#         print(value.select('span.route_airport__3VT7M')[0].b.get_text())\n",
    "#         print(value.select('span.route_airport__3VT7M')[1].b.get_text())\n",
    "#         print(value.select('span.route_airport__3VT7M')[0].i.get_text())\n",
    "#         print(value.select('span.route_airport__3VT7M')[1].i.get_text())\n",
    "        \n",
    "#         print(value.select('i.route_info__1RhUH')[0].get_text())\n",
    "        \n",
    "#         print(value.select('span.route_airport__3VT7M')[2].b.get_text())\n",
    "#         print(value.select('span.route_airport__3VT7M')[3].b.get_text())\n",
    "#         print(value.select('span.route_airport__3VT7M')[2].i.get_text())\n",
    "#         print(value.select('span.route_airport__3VT7M')[3].i.get_text())\n",
    "        \n",
    "#         print(value.select('i.route_info__1RhUH')[1].get_text())\n",
    "        \n",
    "#     # 오갈때 항공사 다른 경우\n",
    "#     else:\n",
    "#         print(value.select('img.airline_logo__3himS')[0].attrs['alt'])\n",
    "#         print(value.select('img.airline_logo__3himS')[0].attrs['src'])\n",
    "        \n",
    "#         print(value.select('img.airline_logo__3himS')[1].attrs['alt'])\n",
    "#         print(value.select('img.airline_logo__3himS')[1].attrs['src'])\n"
   ]
  },
  {
   "cell_type": "code",
   "execution_count": 54,
   "metadata": {},
   "outputs": [],
   "source": [
    "req_url = \"https://airline-api.naver.com/graphql\""
   ]
  },
  {
   "cell_type": "code",
   "execution_count": 107,
   "metadata": {},
   "outputs": [],
   "source": [
    "adults = f'{adults_count if adults_count > 0 else 0}'\n",
    "child = f'{children_count if children_count > 0 else 0}'\n",
    "infant = f'{infant_count if infant_count > 0 else 0}'"
   ]
  },
  {
   "cell_type": "code",
   "execution_count": 147,
   "metadata": {},
   "outputs": [],
   "source": [
    "def firstGetKey():\n",
    "    query = 'query getInternationalList($trip: String!, $itinerary: [InternationalList_itinerary]!, $adult: Int = '+adults+'$child: Int = '+child+', $infant: Int = '+infant+', $fareType: String!, $where: String = \"pc\", $isDirect: Boolean = false, $stayLength: String, $galileoKey: String, $galileoFlag: Boolean = true, $travelBizKey: String, $travelBizFlag: Boolean = true) {        internationalList(            input: {trip: $trip, itinerary: $itinerary, person: {adult: $adult, child: $child, infant: $infant}, fareType: $fareType, where: $where, isDirect: $isDirect, stayLength: $stayLength, galileoKey: $galileoKey, galileoFlag: $galileoFlag, travelBizKey: $travelBizKey, travelBizFlag: $travelBizFlag}        ) {            galileoKey            galileoFlag            travelBizKey            travelBizFlag            totalResCnt            resCnt            results {            airlines            airports            fareTypes            schedules            fares            errors            carbonEmissionAverage {                directFlightCarbonEmissionItineraryAverage                directFlightCarbonEmissionAverage            }           }        }    }'\n",
    "    \n",
    "    headers = {\n",
    "        \"Content-Type\": \"application/json\",\n",
    "        \"Referer\": url,\n",
    "    } \n",
    "\n",
    "    payload_first = {\n",
    "        'operationName': \"getInternationalList\",\n",
    "        \"query\": query,\n",
    "        'variables': {\n",
    "            'adult': int(adults),\n",
    "            'child': int(child),\n",
    "            'fareType': \"Y\",\n",
    "            'galileoFlag': True,\n",
    "            'galileoKey': \"\",\n",
    "            'infant': int(infant),\n",
    "            'isDirect': True,\n",
    "            'itinerary': [\n",
    "                {'departureAirport': departure.upper(), 'arrivalAirport': arrival.upper(), 'departureDate': convertDateTouseUrl(departure_date)},\n",
    "                {'departureAirport': arrival.upper(), 'arrivalAirport': departure.upper(), 'departureDate': convertDateTouseUrl(arrival_date)}\n",
    "            ],\n",
    "            'stayLength': \"\",\n",
    "            'travelBizFlag': True,\n",
    "            'travelBizKey': \"\",\n",
    "            'trip': \"RT\",\n",
    "            'where': \"pc\",\n",
    "        }\n",
    "    }\n",
    "\n",
    "    response = req.post(url=req_url, headers=headers, json=payload_first)\n",
    "    return response"
   ]
  },
  {
   "cell_type": "code",
   "execution_count": 146,
   "metadata": {},
   "outputs": [],
   "source": [
    "def getAirInfo(galileokey, travelbizkey):\n",
    "    query = 'query getInternationalList($trip: String!, $itinerary: [InternationalList_itinerary]!, $adult: Int = '+adults+'$child: Int = '+child+', $infant: Int = '+infant+', $fareType: String!, $where: String = \"pc\", $isDirect: Boolean = false, $stayLength: String, $galileoKey: String, $galileoFlag: Boolean = true, $travelBizKey: String, $travelBizFlag: Boolean = true) {        internationalList(            input: {trip: $trip, itinerary: $itinerary, person: {adult: $adult, child: $child, infant: $infant}, fareType: $fareType, where: $where, isDirect: $isDirect, stayLength: $stayLength, galileoKey: $galileoKey, galileoFlag: $galileoFlag, travelBizKey: $travelBizKey, travelBizFlag: $travelBizFlag}        ) {            galileoKey            galileoFlag            travelBizKey            travelBizFlag            totalResCnt            resCnt            results {            airlines            airports            fareTypes            schedules            fares            errors            carbonEmissionAverage {                directFlightCarbonEmissionItineraryAverage                directFlightCarbonEmissionAverage            }           }        }    }'\n",
    "\n",
    "    headers = {\n",
    "        \"Content-Type\": \"application/json\",\n",
    "        \"Referer\": url,\n",
    "    } \n",
    "\n",
    "    payload_first = {\n",
    "        'operationName': \"getInternationalList\",\n",
    "        \"query\": query,\n",
    "        'variables': {\n",
    "            'adult': int(adults),\n",
    "            'child': int(child),\n",
    "            'fareType': \"Y\",\n",
    "            'galileoFlag': True,\n",
    "            'galileoKey': galileokey,\n",
    "            'infant': int(infant),\n",
    "            'isDirect': True,\n",
    "            'itinerary': [\n",
    "                {'departureAirport': departure.upper(), 'arrivalAirport': arrival.upper(), 'departureDate': convertDateTouseUrl(departure_date)},\n",
    "                {'departureAirport': arrival.upper(), 'arrivalAirport': departure.upper(), 'departureDate': convertDateTouseUrl(arrival_date)}\n",
    "            ],\n",
    "            'stayLength': \"\",\n",
    "            'travelBizFlag': True,\n",
    "            'travelBizKey': travelbizkey,\n",
    "            'trip': \"RT\",\n",
    "            'where': \"pc\",\n",
    "        }\n",
    "    }\n",
    "\n",
    "    response = req.post(url=req_url, headers=headers, json=payload_first)\n",
    "    return response"
   ]
  },
  {
   "cell_type": "code",
   "execution_count": 345,
   "metadata": {},
   "outputs": [],
   "source": [
    "resp = firstGetKey().json()\n",
    "# 데이터 확인\n",
    "# print(resp)"
   ]
  },
  {
   "cell_type": "code",
   "execution_count": 346,
   "metadata": {},
   "outputs": [],
   "source": [
    "galileo_key = resp['data']['internationalList']['galileoKey']\n",
    "biz_key = resp['data']['internationalList']['travelBizKey']"
   ]
  },
  {
   "cell_type": "code",
   "execution_count": 347,
   "metadata": {},
   "outputs": [],
   "source": [
    "res = getAirInfo(galileokey=galileo_key, travelbizkey=biz_key)"
   ]
  },
  {
   "cell_type": "code",
   "execution_count": 348,
   "metadata": {},
   "outputs": [],
   "source": [
    "tmp = res.json()"
   ]
  },
  {
   "cell_type": "code",
   "execution_count": 349,
   "metadata": {},
   "outputs": [],
   "source": [
    "tot = tmp['data']['internationalList']['totalResCnt']\n",
    "tmp['data']['internationalList']['results']['schedules'][0]\n",
    "fares = tmp['data']['internationalList']['results']['fares']"
   ]
  },
  {
   "cell_type": "code",
   "execution_count": 350,
   "metadata": {},
   "outputs": [
    {
     "name": "stdout",
     "output_type": "stream",
     "text": [
      "20240402ICNBKKLJ0001 ICN BKK LJ0001 20240402 19:55 05:40\n",
      "20240402ICNBKKZE0511 ICN BKK ZE0511 20240402 17:30 05:50\n",
      "20240402ICNBKKTW0101 ICN BKK TW0101 20240402 20:05 05:50\n",
      "20240402ICNBKK7C2203 ICN BKK 7C2203 20240402 20:05 05:54\n",
      "20240402ICNBKK7C2205 ICN BKK 7C2205 20240402 20:40 05:55\n",
      "20240402ICNBKKBX0747 ICN BKK BX0747 20240402 17:15 06:05\n",
      "20240402ICNBKKTG0657 ICN BKK TG0657 20240402 10:20 05:50\n",
      "20240402ICNBKKTG0659 ICN BKK TG0659 20240402 09:35 05:50\n",
      "20240402ICNBKKTG0653 ICN BKK TG0653 20240402 17:30 05:50\n",
      "20240402ICNBKKOZ0741 ICN BKK OZ0741 20240402 19:30 05:40\n",
      "20240402ICNBKKOZ0743 ICN BKK OZ0743 20240402 20:40 06:00\n",
      "20240402ICNBKKOZ6737 ICN BKK OZ6737 20240402 10:20 05:50\n",
      "20240402ICNBKKOZ6761 ICN BKK OZ6761 20240402 09:35 05:50\n",
      "20240402ICNBKKOZ6763 ICN BKK OZ6763 20240402 17:30 05:50\n",
      "20240402ICNBKKKE0657 ICN BKK KE0657 20240402 09:30 05:45\n",
      "20240402ICNBKKKE0659 ICN BKK KE0659 20240402 19:45 05:50\n",
      "20240402ICNBKKKE0651 ICN BKK KE0651 20240402 18:05 05:40\n",
      "----------------------------------------------------------------------------------------------------\n",
      "20240405BKKICNLJ0002 BKK ICN LJ0002 20240405 00:50 06:00\n",
      "20240405BKKICNZE0512 BKK ICN ZE0512 20240405 22:20 05:40\n",
      "20240405BKKICNTW0102 BKK ICN TW0102 20240405 01:20 05:35\n",
      "20240405BKKICN7C2206 BKK ICN 7C2206 20240405 01:45 05:35\n",
      "20240405BKKICN7C2204 BKK ICN 7C2204 20240405 01:00 05:40\n",
      "20240405BKKICNYP0602 BKK ICN YP0602 20240405 22:45 05:40\n",
      "20240405BKKICNBX0748 BKK ICN BX0748 20240405 22:20 05:45\n",
      "20240405BKKICNOZ0744 BKK ICN OZ0744 20240405 02:00 05:35\n",
      "20240405BKKICNOZ0742 BKK ICN OZ0742 20240405 01:10 05:40\n",
      "20240405BKKICNTG0652 BKK ICN TG0652 20240405 08:00 05:25\n",
      "20240405BKKICNTG0658 BKK ICN TG0658 20240405 23:10 05:25\n",
      "20240405BKKICNTG0656 BKK ICN TG0656 20240405 23:30 05:25\n",
      "20240405BKKICNOZ6762 BKK ICN OZ6762 20240405 23:10 05:25\n",
      "20240405BKKICNOZ6764 BKK ICN OZ6764 20240405 23:30 05:25\n",
      "20240405BKKICNOZ6736 BKK ICN OZ6736 20240405 08:00 05:25\n",
      "20240405BKKICNKE0660 BKK ICN KE0660 20240405 09:50 05:45\n",
      "20240405BKKICNKE0658 BKK ICN KE0658 20240405 21:40 05:25\n"
     ]
    }
   ],
   "source": [
    "# 출국\n",
    "for i, v in tmp['data']['internationalList']['results']['schedules'][0].items():\n",
    "    print(\\\n",
    "        i,\n",
    "        # v['detail'][0],\n",
    "        v['detail'][0]['sa'],\n",
    "        v['detail'][0]['ea'],\n",
    "        v['detail'][0]['av']+v['detail'][0]['fn'],\n",
    "        v['detail'][0]['sdt'][:8] + \" \" + v['detail'][0]['sdt'][8:10] + \":\" + v['detail'][0]['sdt'][10:12],\n",
    "        v['detail'][0]['jt'][:2] + \":\" + v['detail'][0]['jt'][2:]\n",
    "    )\n",
    "\n",
    "print(\"-\"*100)\n",
    "\n",
    "# 입국\n",
    "for i, v in tmp['data']['internationalList']['results']['schedules'][1].items():\n",
    "    print(\\\n",
    "        i,\n",
    "        # v['detail'][0],\n",
    "        v['detail'][0]['sa'],\n",
    "        v['detail'][0]['ea'],\n",
    "        v['detail'][0]['av']+v['detail'][0]['fn'],\n",
    "        v['detail'][0]['sdt'][:8] + \" \" + v['detail'][0]['sdt'][8:10] + \":\" + v['detail'][0]['sdt'][10:12],\n",
    "        v['detail'][0]['jt'][:2] + \":\" + v['detail'][0]['jt'][2:]\n",
    "    )\n"
   ]
  },
  {
   "cell_type": "code",
   "execution_count": 353,
   "metadata": {},
   "outputs": [],
   "source": [
    "d = {}\n",
    "for i, v in fares.items():\n",
    "    # print(i, '\\t', v['fare']['A01'][0]['Adult'])\n",
    "    # print(v['fare'])\n",
    "    break"
   ]
  },
  {
   "cell_type": "markdown",
   "metadata": {},
   "source": [
    "&selectedFlight=1:20240402ICNBKKXJ0703:A01:HK:XJ,2:20240405BKKICNXJ0702:A01:HK:XJ&selectType=concurrent"
   ]
  },
  {
   "cell_type": "code",
   "execution_count": 176,
   "metadata": {},
   "outputs": [],
   "source": [
    "clickedUrl = url + f'&selectedFlight=1:20240402ICNBKKLJ0001:A01:HK:XJ,2:20240405BKKICNXJ0702:A01:HK:XJ&selectType=concurrent'"
   ]
  },
  {
   "cell_type": "code",
   "execution_count": 352,
   "metadata": {},
   "outputs": [
    {
     "data": {
      "text/plain": [
       "'https://flight.naver.com/flights/international/ICN-BKK-20240402/BKK-ICN-20240405?adults=1&isDirect=true&fareType=Y&selectedFlight=1:20240402ICNBKKLJ0001:A01:HK:XJ,2:20240405BKKICNXJ0702:A01:HK:XJ&selectType=concurrent'"
      ]
     },
     "execution_count": 352,
     "metadata": {},
     "output_type": "execute_result"
    }
   ],
   "source": [
    "clickedUrl"
   ]
  },
  {
   "cell_type": "code",
   "execution_count": null,
   "metadata": {},
   "outputs": [],
   "source": []
  },
  {
   "cell_type": "code",
   "execution_count": 273,
   "metadata": {},
   "outputs": [
    {
     "ename": "IndexError",
     "evalue": "list index out of range",
     "output_type": "error",
     "traceback": [
      "\u001b[1;31m---------------------------------------------------------------------------\u001b[0m",
      "\u001b[1;31mIndexError\u001b[0m                                Traceback (most recent call last)",
      "Cell \u001b[1;32mIn[273], line 9\u001b[0m\n\u001b[0;32m      6\u001b[0m \u001b[38;5;66;03m# 출국\u001b[39;00m\n\u001b[0;32m      7\u001b[0m dp_departure_airline \u001b[38;5;241m=\u001b[39m value\u001b[38;5;241m.\u001b[39mselect(\u001b[38;5;124m'\u001b[39m\u001b[38;5;124mdiv\u001b[39m\u001b[38;5;124m'\u001b[39m)[\u001b[38;5;241m0\u001b[39m]\u001b[38;5;241m.\u001b[39mspan\u001b[38;5;241m.\u001b[39mgetText()\n\u001b[1;32m----> 9\u001b[0m dp_departure_img \u001b[38;5;241m=\u001b[39m \u001b[38;5;124mf\u001b[39m\u001b[38;5;124m\"\u001b[39m\u001b[38;5;124mhttps://\u001b[39m\u001b[38;5;132;01m{\u001b[39;00m\u001b[43mvalue\u001b[49m\u001b[38;5;241;43m.\u001b[39;49m\u001b[43mselect\u001b[49m\u001b[43m(\u001b[49m\u001b[38;5;124;43m'\u001b[39;49m\u001b[38;5;124;43mdiv.LegLogo_legImage__MmY0Z\u001b[39;49m\u001b[38;5;124;43m'\u001b[39;49m\u001b[43m)\u001b[49m\u001b[43m[\u001b[49m\u001b[38;5;241;43m0\u001b[39;49m\u001b[43m]\u001b[49m\u001b[38;5;241m.\u001b[39mimg\u001b[38;5;241m.\u001b[39mattrs[\u001b[38;5;124m'\u001b[39m\u001b[38;5;124msrc\u001b[39m\u001b[38;5;124m'\u001b[39m][\u001b[38;5;241m2\u001b[39m:]\u001b[38;5;132;01m}\u001b[39;00m\u001b[38;5;124m\"\u001b[39m\n\u001b[0;32m     11\u001b[0m dp_departure_time \u001b[38;5;241m=\u001b[39m value\u001b[38;5;241m.\u001b[39mselect(\u001b[38;5;124m'\u001b[39m\u001b[38;5;124mdiv.LegInfo_routePartialDepart__NzEwY\u001b[39m\u001b[38;5;124m'\u001b[39m)[\u001b[38;5;241m0\u001b[39m]\u001b[38;5;241m.\u001b[39mspan\u001b[38;5;241m.\u001b[39mget_text()\n\u001b[0;32m     12\u001b[0m dp_arrival_time \u001b[38;5;241m=\u001b[39m value\u001b[38;5;241m.\u001b[39mselect(\u001b[38;5;124m'\u001b[39m\u001b[38;5;124mdiv.LegInfo_routePartialArrive__Y2U1N\u001b[39m\u001b[38;5;124m'\u001b[39m)[\u001b[38;5;241m0\u001b[39m]\u001b[38;5;241m.\u001b[39mspan\u001b[38;5;241m.\u001b[39mget_text()\n",
      "\u001b[1;31mIndexError\u001b[0m: list index out of range"
     ]
    }
   ],
   "source": [
    "site = \"naver\"\n",
    "\n",
    "for index, value in enumerate(naver):\n",
    "    one_data = {}\n",
    "    \n",
    "    # 출국\n",
    "    dp_departure_airline = value.select('div')[0].span.getText()\n",
    "    \n",
    "    dp_departure_img = f\"https://{value.select('div.LegLogo_legImage__MmY0Z')[0].img.attrs['src'][2:]}\"\n",
    "    \n",
    "    dp_departure_time = value.select('div.LegInfo_routePartialDepart__NzEwY')[0].span.get_text()\n",
    "    dp_arrival_time = value.select('div.LegInfo_routePartialArrive__Y2U1N')[0].span.get_text()\n",
    "    \n",
    "    dp_duration = value.select('div.LegInfo_stopsContainer__NWIyN')[0].span.get_text()\n",
    "    \n",
    "    dp_departure_airport = value.select('div.LegInfo_routePartialDepart__NzEwY > span:nth-child(2)')[0].span.get_text()\n",
    "    dp_arrival_airport = value.select('div.LegInfo_routePartialArrive__Y2U1N > span:nth-child(2)')[0].span.get_text()\n",
    "    \n",
    "    dp_transit = value.select('div.LegInfo_stopsLabelContainer__MmM0Z')[0].span.get_text()\n",
    "    \n",
    "    # 입국\n",
    "    entry_departure_airline = value.select('div')[1].span.getText()\n",
    "    \n",
    "    entry_departure_img  = f\"https://{value.select('div.LegLogo_legImage__MmY0Z')[1].img.attrs['src'][2:]}\"\n",
    "    \n",
    "    entry_departure_time = value.select('div.LegInfo_routePartialDepart__NzEwY')[1].span.get_text()\n",
    "    entry_arrival_time = value.select('div.LegInfo_routePartialArrive__Y2U1N')[1].span.get_text()\n",
    "    \n",
    "    entry_duration = value.select('div.LegInfo_stopsContainer__NWIyN')[1].span.get_text()\n",
    "    \n",
    "    entry_departure_airport = value.select('div.LegInfo_routePartialDepart__NzEwY > span:nth-child(2)')[1].span.get_text()\n",
    "    entry_arrival_airport = value.select('div.LegInfo_routePartialArrive__Y2U1N > span:nth-child(2)')[1].span.get_text()\n",
    "    \n",
    "    entry_transit = value.select('div.LegInfo_stopsLabelContainer__MmM0Z')[1].span.get_text()\n",
    "    \n",
    "    # Ticket 정보 및 가격\n",
    "    ticket_info = value.select('div.TicketStub_horizontalStubContainer__YjM5M')[0].span.get_text()\n",
    "    ticket_price = value.select('div.Price_mainPriceContainer__MDM3O')[0].span.get_text()\n",
    "    \n",
    "    # 데이터 넣기전 임시\n",
    "    link = \"naver.com\"\n",
    "    \n",
    "    one_data = {\n",
    "        'site' : site,\n",
    "        'dp_departure_airline' : dp_departure_airline,\n",
    "        'dp_departure_img' : dp_departure_img,\n",
    "        'dp_departure_time' : dp_departure_time,\n",
    "        'dp_arrival_time' : dp_arrival_time,\n",
    "        'dp_duration' : dp_duration,\n",
    "        'dp_departure_airport' : dp_departure_airport,\n",
    "        'dp_arrival_airport' : dp_arrival_airport,\n",
    "        'dp_transit' : dp_transit,\n",
    "        'entry_departure_airline' : entry_departure_airline,\n",
    "        'entry_departure_img' : entry_departure_img,\n",
    "        'entry_departure_time' : entry_departure_time,\n",
    "        'entry_arrival_time' : entry_arrival_time,\n",
    "        'entry_duration' : entry_duration,\n",
    "        'entry_departure_airport' : entry_departure_airport,\n",
    "        'entry_arrival_airport' : entry_arrival_airport,\n",
    "        'entry_transit' : entry_transit,\n",
    "        'ticket_info' : ticket_info,\n",
    "        'ticket_price' : ticket_price,\n",
    "        'link' : link,\n",
    "    }\n",
    "    \n",
    "    df = pd.concat([df, pd.DataFrame([one_data])], ignore_index=True)\n"
   ]
  },
  {
   "cell_type": "code",
   "execution_count": 274,
   "metadata": {},
   "outputs": [
    {
     "data": {
      "text/html": [
       "<div>\n",
       "<style scoped>\n",
       "    .dataframe tbody tr th:only-of-type {\n",
       "        vertical-align: middle;\n",
       "    }\n",
       "\n",
       "    .dataframe tbody tr th {\n",
       "        vertical-align: top;\n",
       "    }\n",
       "\n",
       "    .dataframe thead th {\n",
       "        text-align: right;\n",
       "    }\n",
       "</style>\n",
       "<table border=\"1\" class=\"dataframe\">\n",
       "  <thead>\n",
       "    <tr style=\"text-align: right;\">\n",
       "      <th></th>\n",
       "      <th>site</th>\n",
       "      <th>dp_departure_airline</th>\n",
       "      <th>dp_departure_img</th>\n",
       "      <th>dp_departure_time</th>\n",
       "      <th>dp_arrival_time</th>\n",
       "      <th>dp_duration</th>\n",
       "      <th>dp_departure_airport</th>\n",
       "      <th>dp_arrival_airport</th>\n",
       "      <th>dp_transit</th>\n",
       "      <th>entry_departure_airline</th>\n",
       "      <th>entry_departure_img</th>\n",
       "      <th>entry_departure_time</th>\n",
       "      <th>entry_arrival_time</th>\n",
       "      <th>entry_duration</th>\n",
       "      <th>entry_departure_airport</th>\n",
       "      <th>entry_arrival_airport</th>\n",
       "      <th>entry_transit</th>\n",
       "      <th>ticket_info</th>\n",
       "      <th>ticket_price</th>\n",
       "      <th>link</th>\n",
       "    </tr>\n",
       "  </thead>\n",
       "  <tbody>\n",
       "  </tbody>\n",
       "</table>\n",
       "</div>"
      ],
      "text/plain": [
       "Empty DataFrame\n",
       "Columns: [site, dp_departure_airline, dp_departure_img, dp_departure_time, dp_arrival_time, dp_duration, dp_departure_airport, dp_arrival_airport, dp_transit, entry_departure_airline, entry_departure_img, entry_departure_time, entry_arrival_time, entry_duration, entry_departure_airport, entry_arrival_airport, entry_transit, ticket_info, ticket_price, link]\n",
       "Index: []"
      ]
     },
     "execution_count": 274,
     "metadata": {},
     "output_type": "execute_result"
    }
   ],
   "source": [
    "df"
   ]
  },
  {
   "cell_type": "code",
   "execution_count": 362,
   "metadata": {},
   "outputs": [],
   "source": [
    "df.to_csv('test.csv', encoding='utf-8-sig')"
   ]
  }
 ],
 "metadata": {
  "kernelspec": {
   "display_name": "env",
   "language": "python",
   "name": "python3"
  },
  "language_info": {
   "codemirror_mode": {
    "name": "ipython",
    "version": 3
   },
   "file_extension": ".py",
   "mimetype": "text/x-python",
   "name": "python",
   "nbconvert_exporter": "python",
   "pygments_lexer": "ipython3",
   "version": "3.12.1"
  }
 },
 "nbformat": 4,
 "nbformat_minor": 2
}
